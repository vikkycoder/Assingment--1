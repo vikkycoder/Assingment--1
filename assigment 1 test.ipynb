{
 "cells": [
  {
   "cell_type": "code",
   "execution_count": 1,
   "id": "162ecc35-a1b9-4766-909f-17b467ee0fe0",
   "metadata": {},
   "outputs": [],
   "source": [
    "a = \"jai sri krishna\""
   ]
  },
  {
   "cell_type": "code",
   "execution_count": 2,
   "id": "9703b1d8-adc3-44c7-8aef-98df26ae675a",
   "metadata": {},
   "outputs": [
    {
     "data": {
      "text/plain": [
       "str"
      ]
     },
     "execution_count": 2,
     "metadata": {},
     "output_type": "execute_result"
    }
   ],
   "source": [
    "type(a)"
   ]
  },
  {
   "cell_type": "code",
   "execution_count": 3,
   "id": "0e807c69-864a-44b7-84ee-79b5c68b5f6e",
   "metadata": {},
   "outputs": [],
   "source": [
    "b = [2,3,4,5,6, \" ram\" , True , 45.67 , 5 + 7j]"
   ]
  },
  {
   "cell_type": "code",
   "execution_count": 4,
   "id": "801704aa-2383-4602-8bb2-5fc8944f1ae2",
   "metadata": {},
   "outputs": [
    {
     "data": {
      "text/plain": [
       "list"
      ]
     },
     "execution_count": 4,
     "metadata": {},
     "output_type": "execute_result"
    }
   ],
   "source": [
    "type(b)"
   ]
  },
  {
   "cell_type": "code",
   "execution_count": 5,
   "id": "b319c8fe-11be-45e4-80fa-88c60ff0805e",
   "metadata": {},
   "outputs": [],
   "source": [
    "c = 32.657"
   ]
  },
  {
   "cell_type": "code",
   "execution_count": 6,
   "id": "390421c2-1cdf-4cd6-86a3-48a350e18a4f",
   "metadata": {},
   "outputs": [
    {
     "data": {
      "text/plain": [
       "float"
      ]
     },
     "execution_count": 6,
     "metadata": {},
     "output_type": "execute_result"
    }
   ],
   "source": [
    "type(c)"
   ]
  },
  {
   "cell_type": "code",
   "execution_count": 7,
   "id": "86e92ffe-ca9a-411c-9ced-a85ca9628e12",
   "metadata": {},
   "outputs": [],
   "source": [
    "d = (2,3,4,5,6, \" ram\" , True , 45.67 , 5 + 7j)"
   ]
  },
  {
   "cell_type": "code",
   "execution_count": 8,
   "id": "113ad5aa-bc84-454f-a85d-5a2b383d05d6",
   "metadata": {},
   "outputs": [
    {
     "data": {
      "text/plain": [
       "tuple"
      ]
     },
     "execution_count": 8,
     "metadata": {},
     "output_type": "execute_result"
    }
   ],
   "source": [
    "type(d)"
   ]
  },
  {
   "cell_type": "code",
   "execution_count": 9,
   "id": "01a97f2e-e99f-467e-a440-2a52b7ab984b",
   "metadata": {},
   "outputs": [],
   "source": [
    "# Question 2 answer"
   ]
  },
  {
   "cell_type": "code",
   "execution_count": 12,
   "id": "83143109-cd83-4206-8f61-a7a01a34dae3",
   "metadata": {},
   "outputs": [],
   "source": [
    "var4 = 1."
   ]
  },
  {
   "cell_type": "code",
   "execution_count": 13,
   "id": "fbb4dab7-6717-4ca2-af66-45dd88878332",
   "metadata": {},
   "outputs": [
    {
     "data": {
      "text/plain": [
       "float"
      ]
     },
     "execution_count": 13,
     "metadata": {},
     "output_type": "execute_result"
    }
   ],
   "source": [
    "type(var4)"
   ]
  },
  {
   "cell_type": "code",
   "execution_count": 14,
   "id": "a753b57a-a891-40d9-b754-ff30ca4ccdaf",
   "metadata": {},
   "outputs": [],
   "source": [
    "var1 = ' '"
   ]
  },
  {
   "cell_type": "code",
   "execution_count": 15,
   "id": "7371b8b0-6850-461f-9d9d-449fbc4bad03",
   "metadata": {},
   "outputs": [
    {
     "data": {
      "text/plain": [
       "str"
      ]
     },
     "execution_count": 15,
     "metadata": {},
     "output_type": "execute_result"
    }
   ],
   "source": [
    "type(var1)"
   ]
  },
  {
   "cell_type": "code",
   "execution_count": 20,
   "id": "4cf1dcc3-303c-46c5-88b1-0469c40861df",
   "metadata": {},
   "outputs": [
    {
     "ename": "SyntaxError",
     "evalue": "invalid character '‘' (U+2018) (4236947624.py, line 1)",
     "output_type": "error",
     "traceback": [
      "\u001b[0;36m  Cell \u001b[0;32mIn[20], line 1\u001b[0;36m\u001b[0m\n\u001b[0;31m    var2 = ‘[ DS , ML , Python]’\u001b[0m\n\u001b[0m           ^\u001b[0m\n\u001b[0;31mSyntaxError\u001b[0m\u001b[0;31m:\u001b[0m invalid character '‘' (U+2018)\n"
     ]
    }
   ],
   "source": [
    "var2 = ‘[ DS , ML , Python]’"
   ]
  },
  {
   "cell_type": "code",
   "execution_count": 21,
   "id": "76f09343-4dfd-4a3e-b19c-b324a93a6f2c",
   "metadata": {},
   "outputs": [
    {
     "ename": "NameError",
     "evalue": "name 'var2' is not defined",
     "output_type": "error",
     "traceback": [
      "\u001b[0;31m---------------------------------------------------------------------------\u001b[0m",
      "\u001b[0;31mNameError\u001b[0m                                 Traceback (most recent call last)",
      "Cell \u001b[0;32mIn[21], line 1\u001b[0m\n\u001b[0;32m----> 1\u001b[0m \u001b[38;5;28mtype\u001b[39m(\u001b[43mvar2\u001b[49m)\n",
      "\u001b[0;31mNameError\u001b[0m: name 'var2' is not defined"
     ]
    }
   ],
   "source": [
    "type(var2)"
   ]
  },
  {
   "cell_type": "code",
   "execution_count": 22,
   "id": "98bbf209-5650-4c30-94e6-eb523d1ba10a",
   "metadata": {},
   "outputs": [
    {
     "ename": "SyntaxError",
     "evalue": "invalid character '‘' (U+2018) (899486036.py, line 1)",
     "output_type": "error",
     "traceback": [
      "\u001b[0;36m  Cell \u001b[0;32mIn[22], line 1\u001b[0;36m\u001b[0m\n\u001b[0;31m    var3 = [ ‘DS’ , ’ML’ , ‘Python’ ]\u001b[0m\n\u001b[0m             ^\u001b[0m\n\u001b[0;31mSyntaxError\u001b[0m\u001b[0;31m:\u001b[0m invalid character '‘' (U+2018)\n"
     ]
    }
   ],
   "source": [
    "var3 = [ ‘DS’ , ’ML’ , ‘Python’ ]"
   ]
  },
  {
   "cell_type": "code",
   "execution_count": 23,
   "id": "1e764cae-d733-4bd3-bd64-68f9ef961d0a",
   "metadata": {},
   "outputs": [
    {
     "ename": "NameError",
     "evalue": "name 'var3' is not defined",
     "output_type": "error",
     "traceback": [
      "\u001b[0;31m---------------------------------------------------------------------------\u001b[0m",
      "\u001b[0;31mNameError\u001b[0m                                 Traceback (most recent call last)",
      "Cell \u001b[0;32mIn[23], line 1\u001b[0m\n\u001b[0;32m----> 1\u001b[0m \u001b[38;5;28mtype\u001b[39m(\u001b[43mvar3\u001b[49m)\n",
      "\u001b[0;31mNameError\u001b[0m: name 'var3' is not defined"
     ]
    }
   ],
   "source": [
    "type(var3)"
   ]
  },
  {
   "cell_type": "code",
   "execution_count": 16,
   "id": "6252a787-5d9d-4f22-96b0-b7411161b74f",
   "metadata": {},
   "outputs": [],
   "source": [
    "# question 3 answer mathamatic operator"
   ]
  },
  {
   "cell_type": "code",
   "execution_count": 21,
   "id": "96661bfd-05a4-4619-a7a6-6c30fb0a5d4c",
   "metadata": {},
   "outputs": [
    {
     "data": {
      "text/plain": [
       "1.25"
      ]
     },
     "execution_count": 21,
     "metadata": {},
     "output_type": "execute_result"
    }
   ],
   "source": [
    " 5/4"
   ]
  },
  {
   "cell_type": "code",
   "execution_count": 22,
   "id": "1c7a53a1-5406-4947-96af-5e7b217291d3",
   "metadata": {},
   "outputs": [
    {
     "data": {
      "text/plain": [
       "1"
      ]
     },
     "execution_count": 22,
     "metadata": {},
     "output_type": "execute_result"
    }
   ],
   "source": [
    " 5%4"
   ]
  },
  {
   "cell_type": "code",
   "execution_count": 23,
   "id": "a644983d-6040-4c9d-a111-59a0ce8c2a51",
   "metadata": {},
   "outputs": [
    {
     "data": {
      "text/plain": [
       "1"
      ]
     },
     "execution_count": 23,
     "metadata": {},
     "output_type": "execute_result"
    }
   ],
   "source": [
    "8//6"
   ]
  },
  {
   "cell_type": "code",
   "execution_count": 24,
   "id": "e74c0ba1-e817-4818-adba-3fd814110123",
   "metadata": {},
   "outputs": [
    {
     "data": {
      "text/plain": [
       "9"
      ]
     },
     "execution_count": 24,
     "metadata": {},
     "output_type": "execute_result"
    }
   ],
   "source": [
    "3**2"
   ]
  },
  {
   "cell_type": "code",
   "execution_count": 25,
   "id": "2f27c6b5-7bcc-435c-9f47-3297ca486ee8",
   "metadata": {},
   "outputs": [],
   "source": [
    "# Question 4 answer "
   ]
  },
  {
   "cell_type": "code",
   "execution_count": 28,
   "id": "08e7c762-5cbf-4c12-8b78-7d309404c75f",
   "metadata": {},
   "outputs": [],
   "source": [
    "l =[2,3,4,5,6, \" vikky\" , True , 34.87 , False , 6+8j]"
   ]
  },
  {
   "cell_type": "code",
   "execution_count": 30,
   "id": "7f76deba-ebc3-4611-bc06-637f23d4f894",
   "metadata": {},
   "outputs": [
    {
     "name": "stdout",
     "output_type": "stream",
     "text": [
      "<class 'int'>\n",
      "<class 'int'>\n",
      "<class 'int'>\n",
      "<class 'int'>\n",
      "<class 'int'>\n",
      "<class 'str'>\n",
      "<class 'bool'>\n",
      "<class 'float'>\n",
      "<class 'bool'>\n",
      "<class 'complex'>\n"
     ]
    }
   ],
   "source": [
    "for n in l :\n",
    "    print(type(n))"
   ]
  },
  {
   "cell_type": "code",
   "execution_count": 16,
   "id": "3c819b89-24ea-46aa-861e-a50fbfa7ff07",
   "metadata": {},
   "outputs": [],
   "source": [
    "# Question 7 answer\n",
    "# mutable means where we can change data in a particular index but where we cannot changes in variable str this is called immutable .\n",
    "# for example.."
   ]
  },
  {
   "cell_type": "code",
   "execution_count": 8,
   "id": "fb9e3e8c-bd0b-4dda-9c80-d61649911bdd",
   "metadata": {},
   "outputs": [],
   "source": [
    " k = [2,3,4,5,6, \"pwskills\" , 45.78, True]"
   ]
  },
  {
   "cell_type": "code",
   "execution_count": 11,
   "id": "385a8692-7348-4eef-857a-ab5f06b3a97f",
   "metadata": {},
   "outputs": [],
   "source": [
    "k[3] = \"vikky\""
   ]
  },
  {
   "cell_type": "code",
   "execution_count": 12,
   "id": "14c3c094-42aa-4b86-bac8-13bad98ed67a",
   "metadata": {},
   "outputs": [
    {
     "data": {
      "text/plain": [
       "[2, 3, 4, 'vikky', 6, 'pwskills', 45.78, True]"
      ]
     },
     "execution_count": 12,
     "metadata": {},
     "output_type": "execute_result"
    }
   ],
   "source": [
    "k"
   ]
  },
  {
   "cell_type": "code",
   "execution_count": 13,
   "id": "b051de4f-ca88-483f-934e-f750d07033d4",
   "metadata": {},
   "outputs": [],
   "source": [
    "j = \"hecules\""
   ]
  },
  {
   "cell_type": "code",
   "execution_count": 17,
   "id": "132cab87-2df6-44be-b38b-fae2e625b7a2",
   "metadata": {},
   "outputs": [],
   "source": [
    "# str are immutable"
   ]
  },
  {
   "cell_type": "code",
   "execution_count": null,
   "id": "76213a87-033a-4de2-ba85-6d592a476d04",
   "metadata": {},
   "outputs": [],
   "source": []
  }
 ],
 "metadata": {
  "kernelspec": {
   "display_name": "Python 3 (ipykernel)",
   "language": "python",
   "name": "python3"
  },
  "language_info": {
   "codemirror_mode": {
    "name": "ipython",
    "version": 3
   },
   "file_extension": ".py",
   "mimetype": "text/x-python",
   "name": "python",
   "nbconvert_exporter": "python",
   "pygments_lexer": "ipython3",
   "version": "3.10.8"
  }
 },
 "nbformat": 4,
 "nbformat_minor": 5
}
